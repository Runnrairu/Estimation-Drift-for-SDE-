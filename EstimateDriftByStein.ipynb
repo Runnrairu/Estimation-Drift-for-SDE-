{
 "cells": [
  {
   "cell_type": "code",
   "execution_count": 1,
   "metadata": {
    "collapsed": true
   },
   "outputs": [],
   "source": [
    "# -*- coding: utf-8 -*-\n",
    "%matplotlib inline\n",
    "import numpy as np\n",
    "import matplotlib.pyplot as plt"
   ]
  },
  {
   "cell_type": "markdown",
   "metadata": {},
   "source": [
    "### ドリフトの決定(u_t:=0.5t)"
   ]
  },
  {
   "cell_type": "code",
   "execution_count": 2,
   "metadata": {
    "collapsed": true
   },
   "outputs": [],
   "source": [
    "def drift(t):#ドリフトの決定\n",
    "    return 0.5*t #ここではu_t=0.5tとした"
   ]
  },
  {
   "cell_type": "markdown",
   "metadata": {},
   "source": [
    "### Cameron-Martin空間の基底の微分(詳細は[1][4]参照)"
   ]
  },
  {
   "cell_type": "code",
   "execution_count": 3,
   "metadata": {
    "collapsed": true
   },
   "outputs": [],
   "source": [
    "def h_dot(n,t):\n",
    "    incos=(n-0.5)*np.pi*t/T\n",
    "    return np.power(2/T,0.5)*np.cos(incos)/sigma"
   ]
  },
  {
   "cell_type": "markdown",
   "metadata": {},
   "source": [
    "### 作用素に対する各基底の固有値"
   ]
  },
  {
   "cell_type": "code",
   "execution_count": 4,
   "metadata": {
    "collapsed": true
   },
   "outputs": [],
   "source": [
    "def lamda(n):\n",
    "    return sigma*T/(np.pi*(n-0.5))"
   ]
  },
  {
   "cell_type": "markdown",
   "metadata": {},
   "source": [
    "### 独自の工夫ポイント\n",
    "### カメロンマルティン空間の基底の微分を定義関数で近似したうえで微分とWiener汎関数の線形性に頼る"
   ]
  },
  {
   "cell_type": "code",
   "execution_count": 5,
   "metadata": {
    "collapsed": true
   },
   "outputs": [],
   "source": [
    "def X_h(k):#独自の工夫ポイント。カメロンマルティンの基底の微分を定義関数で近似したうえで微分とXの線形性に頼る\n",
    "    sum=0\n",
    "    for i in range(m):\n",
    "        t=i*T/m\n",
    "        sum += h_dot(k,t+delta_t)*(X[i+1]-X[i])\n",
    "    return sum"
   ]
  },
  {
   "cell_type": "markdown",
   "metadata": {},
   "source": [
    "### 大枠のセッティング"
   ]
  },
  {
   "cell_type": "code",
   "execution_count": 6,
   "metadata": {
    "collapsed": true
   },
   "outputs": [],
   "source": [
    "T = 1.0  #終端時刻\n",
    "sigma = 1.0 #σの値\n",
    "m = 1000 #時間の分割数\n",
    "t = 0 #初期時刻\n",
    "X = [0]*(m+1)  #確率微分方程式のサンプルパスを格納\n",
    "uhat = [0]*(m+1) #推定量を格納\n",
    "loss_X = [0]*(m) #最尤推定の平均二乗誤差の記録用配列\n",
    "loss_XDF = [0]*(m) #シュタイン推定の平均二乗誤差の記録用配列\n",
    "delta_t = T/m  #Δt\n",
    "sigma_t = np.power(delta_t,0.5)#ブラウン運動実装のための標準偏差計算\n",
    "monte_count=100000 #モンテカルロ法を回す回数"
   ]
  },
  {
   "cell_type": "markdown",
   "metadata": {},
   "source": [
    "### モンテカルロ法を回す"
   ]
  },
  {
   "cell_type": "code",
   "execution_count": 7,
   "metadata": {
    "collapsed": true
   },
   "outputs": [],
   "source": [
    "for l in range(monte_count):\n",
    "    n=5 #近似の次元は5とした（カメロンマルティン空間は無限次元なので、どんなに増やしても完璧ではない）\n",
    "    X_h_array=[0]*(n) #X_h(k)を記録しておくことで計算を高速化する\n",
    "    denominator=0 #シュタイン推定の補正項の分母。詳細は[1]を参照\n",
    "    delta_W = np.random.normal(0,sigma_t*sigma,m)#ブラウン運動実装用の乱数\n",
    "    t=0 #時刻のリセット\n",
    "    X[0]=0\n",
    "    for i in range(m):#サンプルパスの実装\n",
    "        t=t+delta_t\n",
    "        X[i+1]=X[i]+drift(t)*delta_t+sigma*delta_W[i]\n",
    "        loss_X[i] += np.power(X[i]-drift(t),2)/monte_count #各時刻で最尤推定の平均二乗誤差を計算しておく\n",
    "    for k in range(n): \n",
    "        X_h_array[k]=X_h(k+1) #X_h(k)を記録していく\n",
    "        denominator += np.power(X_h_array[k]/lamda(k+1),2)\n",
    "    for i in range(m):#推定量の構成と誤差の計測\n",
    "        t=i*T/m\n",
    "        D_t_logF=0 #時刻tにおけるシュタイン推定の補正項\n",
    "        for k in range(n):\n",
    "            D_t_logF += X_h_array[k]*np.sin((k+1-0.5)*np.pi*t/T)\n",
    "        D_t_logF = D_t_logF*(n-2)*np.power(2/T,0.5)/denominator\n",
    "        uhat[i]=X[i]-D_t_logF\n",
    "        loss_XDF[i] += np.power(uhat[i]-drift(t),2)/monte_count"
   ]
  },
  {
   "cell_type": "markdown",
   "metadata": {},
   "source": [
    "### 描画"
   ]
  },
  {
   "cell_type": "code",
   "execution_count": 8,
   "metadata": {},
   "outputs": [
    {
     "data": {
      "image/png": "[encoded data removed]",
      "text/plain": [
       "<matplotlib.figure.Figure at 0x1e6a7d13c50>"
      ]
     },
     "metadata": {},
     "output_type": "display_data"
    }
   ],
   "source": [
    "plt.plot(loss_X,label=\"maximum likely\")#最尤推定量の平均二乗誤差の表示\n",
    "plt.plot(loss_XDF,label=\"Stein\") #シュタイン推定量の平均二乗誤差の表示\n",
    "plt.legend()\n",
    "plt.title(\"numeric\")\n",
    "plt.xlabel(\"time\")\n",
    "plt.ylabel(\"L^2-loss\")\n",
    "plt.show()"
   ]
  },
  {
   "cell_type": "markdown",
   "metadata": {},
   "source": [
    "平均二乗誤差の（微妙な）改善がみられる"
   ]
  }
 ],
 "metadata": {
  "kernelspec": {
   "display_name": "Python 3",
   "language": "python",
   "name": "python3"
  },
  "language_info": {
   "codemirror_mode": {
    "name": "ipython",
    "version": 3
   },
   "file_extension": ".py",
   "mimetype": "text/x-python",
   "name": "python",
   "nbconvert_exporter": "python",
   "pygments_lexer": "ipython3",
   "version": "3.6.3"
  }
 },
 "nbformat": 4,
 "nbformat_minor": 2
}
